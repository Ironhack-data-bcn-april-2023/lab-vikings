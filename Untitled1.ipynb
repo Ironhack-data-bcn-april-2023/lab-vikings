{
 "cells": [
  {
   "cell_type": "code",
   "execution_count": 1,
   "id": "eb58a93e",
   "metadata": {},
   "outputs": [],
   "source": [
    "from vikingsClasses import Soldier, War, Viking, Saxon\n",
    "\n",
    "Paula = Viking(\"Paula\", 100, 40)\n",
    "\n",
    "Sergi = Viking(\"Sergi\", 100, 30)\n",
    "\n",
    "Jose = Saxon(100,30)\n",
    "\n",
    "Laura = Saxon(100,40)"
   ]
  },
  {
   "cell_type": "code",
   "execution_count": 13,
   "id": "ef25c060",
   "metadata": {},
   "outputs": [
    {
     "data": {
      "text/plain": [
       "'Paula has died in act of combat'"
      ]
     },
     "execution_count": 13,
     "metadata": {},
     "output_type": "execute_result"
    }
   ],
   "source": [
    "Paula.receiveDamage(20)"
   ]
  },
  {
   "cell_type": "code",
   "execution_count": 16,
   "id": "66a14144",
   "metadata": {},
   "outputs": [
    {
     "data": {
      "text/plain": [
       "'Odin Owns You All!'"
      ]
     },
     "execution_count": 16,
     "metadata": {},
     "output_type": "execute_result"
    }
   ],
   "source": [
    "Paula.battleCry()"
   ]
  },
  {
   "cell_type": "code",
   "execution_count": null,
   "id": "408028ef",
   "metadata": {},
   "outputs": [],
   "source": []
  }
 ],
 "metadata": {
  "kernelspec": {
   "display_name": "ironhack",
   "language": "python",
   "name": "ironhack"
  },
  "language_info": {
   "codemirror_mode": {
    "name": "ipython",
    "version": 3
   },
   "file_extension": ".py",
   "mimetype": "text/x-python",
   "name": "python",
   "nbconvert_exporter": "python",
   "pygments_lexer": "ipython3",
   "version": "3.10.9"
  }
 },
 "nbformat": 4,
 "nbformat_minor": 5
}
