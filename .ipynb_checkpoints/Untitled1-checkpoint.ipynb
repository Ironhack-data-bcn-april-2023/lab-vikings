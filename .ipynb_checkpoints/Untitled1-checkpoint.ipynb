{
 "cells": [
  {
   "cell_type": "code",
   "execution_count": 1,
   "id": "4aca7e48",
   "metadata": {},
   "outputs": [],
   "source": [
    "from vikingsClasses import Soldier, War, Viking, Saxon\n",
    "\n",
    "Paula = Viking(\"Paula\", 100, 40)\n",
    "\n",
    "Sergi = Viking(\"Sergi\", 100, 30)\n",
    "\n",
    "Jose = Saxon(100,30)\n",
    "\n",
    "Laura = Saxon(100,40)"
   ]
  },
  {
   "cell_type": "code",
   "execution_count": 3,
   "id": "962200df",
   "metadata": {},
   "outputs": [
    {
     "name": "stdout",
     "output_type": "stream",
     "text": [
      "<vikingsClasses.Viking object at 0x0000024446DAAE90>\n"
     ]
    }
   ],
   "source": []
  },
  {
   "cell_type": "code",
   "execution_count": null,
   "id": "b004707c",
   "metadata": {},
   "outputs": [],
   "source": []
  }
 ],
 "metadata": {
  "kernelspec": {
   "display_name": "ironhack",
   "language": "python",
   "name": "ironhack"
  },
  "language_info": {
   "codemirror_mode": {
    "name": "ipython",
    "version": 3
   },
   "file_extension": ".py",
   "mimetype": "text/x-python",
   "name": "python",
   "nbconvert_exporter": "python",
   "pygments_lexer": "ipython3",
   "version": "3.10.9"
  }
 },
 "nbformat": 4,
 "nbformat_minor": 5
}
